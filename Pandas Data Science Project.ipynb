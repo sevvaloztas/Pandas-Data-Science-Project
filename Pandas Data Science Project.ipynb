{
  "metadata": {
    "kernelspec": {
      "name": "python",
      "display_name": "Python (Pyodide)",
      "language": "python"
    },
    "language_info": {
      "codemirror_mode": {
        "name": "python",
        "version": 3
      },
      "file_extension": ".py",
      "mimetype": "text/x-python",
      "name": "python",
      "nbconvert_exporter": "python",
      "pygments_lexer": "ipython3",
      "version": "3.8"
    }
  },
  "nbformat_minor": 5,
  "nbformat": 4,
  "cells": [
    {
      "id": "68f34f36-9ece-46ce-b7e7-e3c054478439",
      "cell_type": "markdown",
      "source": "Loading data into Pandas",
      "metadata": {}
    },
    {
      "id": "71f8b09e-8002-49cd-be60-cdf2fce7358b",
      "cell_type": "code",
      "source": "import pandas as pd\n\ndf = pd.read_csv('pokemon_data.csv')\n\n# print(df.head(5))\n\n# df_xlsx = pd.read_excel('pokemon_data.xlsx')\n# print(df_xlsx.head(3))\n\n# df = pd.read_csv('pokemon_data.txt', delimiter='\\t')\n\n# print(df.head(5))\n\ndf['HP']",
      "metadata": {
        "trusted": true
      },
      "outputs": [
        {
          "execution_count": 3,
          "output_type": "execute_result",
          "data": {
            "text/plain": "0      45\n1      60\n2      80\n3      80\n4      39\n       ..\n795    50\n796    50\n797    80\n798    80\n799    80\nName: HP, Length: 800, dtype: int64"
          },
          "metadata": {}
        }
      ],
      "execution_count": 3
    },
    {
      "id": "ad2cce45-33d9-4434-85b3-5dde3c8122fc",
      "cell_type": "markdown",
      "source": "Reading Data in Pandas",
      "metadata": {}
    },
    {
      "id": "6d3e1b66-100a-43f4-a988-f723a9e41e9b",
      "cell_type": "code",
      "source": "#### Read Headers\ndf.columns\n\n## Read each Column\n#print(df[['Name', 'Type 1', 'HP']])\n\n## Read Each Row\n#print(df.iloc[0:4])\n# for index, row in df.iterrows():\n#     print(index, row['Name'])\n#df.loc[df['Type 1'] == \"Grass\"]\n\n## Read a specific location (R,C)\n#print(df.iloc[2,1])",
      "metadata": {
        "trusted": true
      },
      "outputs": [
        {
          "execution_count": 4,
          "output_type": "execute_result",
          "data": {
            "text/plain": "Index(['#', 'Name', 'Type 1', 'Type 2', 'HP', 'Attack', 'Defense', 'Sp. Atk',\n       'Sp. Def', 'Speed', 'Generation', 'Legendary'],\n      dtype='object')"
          },
          "metadata": {}
        }
      ],
      "execution_count": 4
    },
    {
      "id": "aed2ef8a-b58f-41f7-bbf4-1799cbd2a5e8",
      "cell_type": "markdown",
      "source": "Sorting/Describing Data",
      "metadata": {}
    },
    {
      "id": "1b60fd67-1ded-4c9f-a89d-bb6de806b1c4",
      "cell_type": "code",
      "source": "df.sort_values(['Type 1', 'HP'], ascending=[1,0])\n\ndf",
      "metadata": {
        "trusted": true
      },
      "outputs": [
        {
          "execution_count": 5,
          "output_type": "execute_result",
          "data": {
            "text/plain": "       #                   Name   Type 1  Type 2  HP  Attack  Defense  \\\n0      1              Bulbasaur    Grass  Poison  45      49       49   \n1      2                Ivysaur    Grass  Poison  60      62       63   \n2      3               Venusaur    Grass  Poison  80      82       83   \n3      3  VenusaurMega Venusaur    Grass  Poison  80     100      123   \n4      4             Charmander     Fire     NaN  39      52       43   \n..   ...                    ...      ...     ...  ..     ...      ...   \n795  719                Diancie     Rock   Fairy  50     100      150   \n796  719    DiancieMega Diancie     Rock   Fairy  50     160      110   \n797  720    HoopaHoopa Confined  Psychic   Ghost  80     110       60   \n798  720     HoopaHoopa Unbound  Psychic    Dark  80     160       60   \n799  721              Volcanion     Fire   Water  80     110      120   \n\n     Sp. Atk  Sp. Def  Speed  Generation  Legendary  \n0         65       65     45           1      False  \n1         80       80     60           1      False  \n2        100      100     80           1      False  \n3        122      120     80           1      False  \n4         60       50     65           1      False  \n..       ...      ...    ...         ...        ...  \n795      100      150     50           6       True  \n796      160      110    110           6       True  \n797      150      130     70           6       True  \n798      170      130     80           6       True  \n799      130       90     70           6       True  \n\n[800 rows x 12 columns]",
            "text/html": "<div>\n<style scoped>\n    .dataframe tbody tr th:only-of-type {\n        vertical-align: middle;\n    }\n\n    .dataframe tbody tr th {\n        vertical-align: top;\n    }\n\n    .dataframe thead th {\n        text-align: right;\n    }\n</style>\n<table border=\"1\" class=\"dataframe\">\n  <thead>\n    <tr style=\"text-align: right;\">\n      <th></th>\n      <th>#</th>\n      <th>Name</th>\n      <th>Type 1</th>\n      <th>Type 2</th>\n      <th>HP</th>\n      <th>Attack</th>\n      <th>Defense</th>\n      <th>Sp. Atk</th>\n      <th>Sp. Def</th>\n      <th>Speed</th>\n      <th>Generation</th>\n      <th>Legendary</th>\n    </tr>\n  </thead>\n  <tbody>\n    <tr>\n      <th>0</th>\n      <td>1</td>\n      <td>Bulbasaur</td>\n      <td>Grass</td>\n      <td>Poison</td>\n      <td>45</td>\n      <td>49</td>\n      <td>49</td>\n      <td>65</td>\n      <td>65</td>\n      <td>45</td>\n      <td>1</td>\n      <td>False</td>\n    </tr>\n    <tr>\n      <th>1</th>\n      <td>2</td>\n      <td>Ivysaur</td>\n      <td>Grass</td>\n      <td>Poison</td>\n      <td>60</td>\n      <td>62</td>\n      <td>63</td>\n      <td>80</td>\n      <td>80</td>\n      <td>60</td>\n      <td>1</td>\n      <td>False</td>\n    </tr>\n    <tr>\n      <th>2</th>\n      <td>3</td>\n      <td>Venusaur</td>\n      <td>Grass</td>\n      <td>Poison</td>\n      <td>80</td>\n      <td>82</td>\n      <td>83</td>\n      <td>100</td>\n      <td>100</td>\n      <td>80</td>\n      <td>1</td>\n      <td>False</td>\n    </tr>\n    <tr>\n      <th>3</th>\n      <td>3</td>\n      <td>VenusaurMega Venusaur</td>\n      <td>Grass</td>\n      <td>Poison</td>\n      <td>80</td>\n      <td>100</td>\n      <td>123</td>\n      <td>122</td>\n      <td>120</td>\n      <td>80</td>\n      <td>1</td>\n      <td>False</td>\n    </tr>\n    <tr>\n      <th>4</th>\n      <td>4</td>\n      <td>Charmander</td>\n      <td>Fire</td>\n      <td>NaN</td>\n      <td>39</td>\n      <td>52</td>\n      <td>43</td>\n      <td>60</td>\n      <td>50</td>\n      <td>65</td>\n      <td>1</td>\n      <td>False</td>\n    </tr>\n    <tr>\n      <th>...</th>\n      <td>...</td>\n      <td>...</td>\n      <td>...</td>\n      <td>...</td>\n      <td>...</td>\n      <td>...</td>\n      <td>...</td>\n      <td>...</td>\n      <td>...</td>\n      <td>...</td>\n      <td>...</td>\n      <td>...</td>\n    </tr>\n    <tr>\n      <th>795</th>\n      <td>719</td>\n      <td>Diancie</td>\n      <td>Rock</td>\n      <td>Fairy</td>\n      <td>50</td>\n      <td>100</td>\n      <td>150</td>\n      <td>100</td>\n      <td>150</td>\n      <td>50</td>\n      <td>6</td>\n      <td>True</td>\n    </tr>\n    <tr>\n      <th>796</th>\n      <td>719</td>\n      <td>DiancieMega Diancie</td>\n      <td>Rock</td>\n      <td>Fairy</td>\n      <td>50</td>\n      <td>160</td>\n      <td>110</td>\n      <td>160</td>\n      <td>110</td>\n      <td>110</td>\n      <td>6</td>\n      <td>True</td>\n    </tr>\n    <tr>\n      <th>797</th>\n      <td>720</td>\n      <td>HoopaHoopa Confined</td>\n      <td>Psychic</td>\n      <td>Ghost</td>\n      <td>80</td>\n      <td>110</td>\n      <td>60</td>\n      <td>150</td>\n      <td>130</td>\n      <td>70</td>\n      <td>6</td>\n      <td>True</td>\n    </tr>\n    <tr>\n      <th>798</th>\n      <td>720</td>\n      <td>HoopaHoopa Unbound</td>\n      <td>Psychic</td>\n      <td>Dark</td>\n      <td>80</td>\n      <td>160</td>\n      <td>60</td>\n      <td>170</td>\n      <td>130</td>\n      <td>80</td>\n      <td>6</td>\n      <td>True</td>\n    </tr>\n    <tr>\n      <th>799</th>\n      <td>721</td>\n      <td>Volcanion</td>\n      <td>Fire</td>\n      <td>Water</td>\n      <td>80</td>\n      <td>110</td>\n      <td>120</td>\n      <td>130</td>\n      <td>90</td>\n      <td>70</td>\n      <td>6</td>\n      <td>True</td>\n    </tr>\n  </tbody>\n</table>\n<p>800 rows × 12 columns</p>\n</div>"
          },
          "metadata": {}
        }
      ],
      "execution_count": 5
    },
    {
      "id": "325e382b-4a7a-4975-affd-915c7fc0e066",
      "cell_type": "markdown",
      "source": "Making changes to the data",
      "metadata": {}
    },
    {
      "id": "3b10a586-ab2d-4be4-b8f6-abcfdd40c6c8",
      "cell_type": "code",
      "source": "\n#df['Total'] = df['HP'] + df['Attack'] + df['Defense'] + df['Sp. Atk'] + df['Sp. Def'] + df['Speed']\n\n# df = df.drop(columns=['Total'])\n\ndf['Total'] = df.iloc[:, 4:10].sum(axis=1)\n\ncols = list(df.columns)\ndf = df[cols[0:4] + [cols[-1]]+cols[4:12]]\n\ndf.head(5)",
      "metadata": {
        "trusted": true
      },
      "outputs": [
        {
          "execution_count": 8,
          "output_type": "execute_result",
          "data": {
            "text/plain": "   #                   Name Type 1  Type 2  Legendary  Total  HP  Attack  \\\n0  1              Bulbasaur  Grass  Poison      False    864  45      49   \n1  2                Ivysaur  Grass  Poison      False   1095  60      62   \n2  3               Venusaur  Grass  Poison      False   1415  80      82   \n3  3  VenusaurMega Venusaur  Grass  Poison      False   1715  80     100   \n4  4             Charmander   Fire     NaN      False    797  39      52   \n\n   Defense  Sp. Atk  Sp. Def  Speed  Generation  \n0       49       65       65     45           1  \n1       63       80       80     60           1  \n2       83      100      100     80           1  \n3      123      122      120     80           1  \n4       43       60       50     65           1  ",
            "text/html": "<div>\n<style scoped>\n    .dataframe tbody tr th:only-of-type {\n        vertical-align: middle;\n    }\n\n    .dataframe tbody tr th {\n        vertical-align: top;\n    }\n\n    .dataframe thead th {\n        text-align: right;\n    }\n</style>\n<table border=\"1\" class=\"dataframe\">\n  <thead>\n    <tr style=\"text-align: right;\">\n      <th></th>\n      <th>#</th>\n      <th>Name</th>\n      <th>Type 1</th>\n      <th>Type 2</th>\n      <th>Legendary</th>\n      <th>Total</th>\n      <th>HP</th>\n      <th>Attack</th>\n      <th>Defense</th>\n      <th>Sp. Atk</th>\n      <th>Sp. Def</th>\n      <th>Speed</th>\n      <th>Generation</th>\n    </tr>\n  </thead>\n  <tbody>\n    <tr>\n      <th>0</th>\n      <td>1</td>\n      <td>Bulbasaur</td>\n      <td>Grass</td>\n      <td>Poison</td>\n      <td>False</td>\n      <td>864</td>\n      <td>45</td>\n      <td>49</td>\n      <td>49</td>\n      <td>65</td>\n      <td>65</td>\n      <td>45</td>\n      <td>1</td>\n    </tr>\n    <tr>\n      <th>1</th>\n      <td>2</td>\n      <td>Ivysaur</td>\n      <td>Grass</td>\n      <td>Poison</td>\n      <td>False</td>\n      <td>1095</td>\n      <td>60</td>\n      <td>62</td>\n      <td>63</td>\n      <td>80</td>\n      <td>80</td>\n      <td>60</td>\n      <td>1</td>\n    </tr>\n    <tr>\n      <th>2</th>\n      <td>3</td>\n      <td>Venusaur</td>\n      <td>Grass</td>\n      <td>Poison</td>\n      <td>False</td>\n      <td>1415</td>\n      <td>80</td>\n      <td>82</td>\n      <td>83</td>\n      <td>100</td>\n      <td>100</td>\n      <td>80</td>\n      <td>1</td>\n    </tr>\n    <tr>\n      <th>3</th>\n      <td>3</td>\n      <td>VenusaurMega Venusaur</td>\n      <td>Grass</td>\n      <td>Poison</td>\n      <td>False</td>\n      <td>1715</td>\n      <td>80</td>\n      <td>100</td>\n      <td>123</td>\n      <td>122</td>\n      <td>120</td>\n      <td>80</td>\n      <td>1</td>\n    </tr>\n    <tr>\n      <th>4</th>\n      <td>4</td>\n      <td>Charmander</td>\n      <td>Fire</td>\n      <td>NaN</td>\n      <td>False</td>\n      <td>797</td>\n      <td>39</td>\n      <td>52</td>\n      <td>43</td>\n      <td>60</td>\n      <td>50</td>\n      <td>65</td>\n      <td>1</td>\n    </tr>\n  </tbody>\n</table>\n</div>"
          },
          "metadata": {}
        }
      ],
      "execution_count": 8
    },
    {
      "id": "e62d0e9b-413e-4552-9e57-06c07a09b0e1",
      "cell_type": "markdown",
      "source": "Saving our Data (Exporting into Desired Format)",
      "metadata": {}
    },
    {
      "id": "ce9c5e37-95c4-4194-a56c-d052997f121a",
      "cell_type": "code",
      "source": "# df.to_csv('modified.csv', index=False)\n\n# df.to_excel('modified.xlsx', index=False)\n\ndf.to_csv('modified.txt', index=False, sep='\\t')",
      "metadata": {
        "trusted": true
      },
      "outputs": [],
      "execution_count": 9
    },
    {
      "id": "b4e838f3-b1d5-4df3-9e7a-28adf39cbd47",
      "cell_type": "markdown",
      "source": "Filtering Data",
      "metadata": {}
    },
    {
      "id": "19bdcaaa-6e59-47ad-bb8a-58a5b3bf7db2",
      "cell_type": "code",
      "source": "new_df = df.loc[(df['Type 1'] == 'Grass') & (df['Type 2'] == 'Poison') & (df['HP'] > 70)]\n\nnew_df.reset_index(drop=True, inplace=True)\n\nnew_df\n\nnew_df.to_csv('filtered.csv')",
      "metadata": {
        "trusted": true
      },
      "outputs": [],
      "execution_count": 13
    },
    {
      "id": "bd57bb14-1758-409e-bb9c-d11a182a2425",
      "cell_type": "markdown",
      "source": "Conditional Changes",
      "metadata": {}
    },
    {
      "id": "838d142e-7ce7-4c29-bbf8-4cb957c4359c",
      "cell_type": "code",
      "source": "# df.loc[df['Total'] > 500, ['Generation','Legendary']] = ['Test 1', 'Test 2']\n\n# df\n\ndf = pd.read_csv('modified.csv')\n\ndf",
      "metadata": {
        "trusted": true
      },
      "outputs": [
        {
          "execution_count": 16,
          "output_type": "execute_result",
          "data": {
            "text/plain": "       #                   Name   Type 1  Type 2  Legendary  Total  HP  \\\n0      1              Bulbasaur    Grass  Poison      False    864  45   \n1      2                Ivysaur    Grass  Poison      False   1095  60   \n2      3               Venusaur    Grass  Poison      False   1415  80   \n3      3  VenusaurMega Venusaur    Grass  Poison      False   1715  80   \n4      4             Charmander     Fire     NaN      False    797  39   \n..   ...                    ...      ...     ...        ...    ...  ..   \n795  719                Diancie     Rock   Fairy       True   1700  50   \n796  719    DiancieMega Diancie     Rock   Fairy       True   1880  50   \n797  720    HoopaHoopa Confined  Psychic   Ghost       True   1660  80   \n798  720     HoopaHoopa Unbound  Psychic    Dark       True   1880  80   \n799  721              Volcanion     Fire   Water       True   1660  80   \n\n     Attack  Defense  Sp. Atk  Sp. Def  Speed  Generation  \n0        49       49       65       65     45           1  \n1        62       63       80       80     60           1  \n2        82       83      100      100     80           1  \n3       100      123      122      120     80           1  \n4        52       43       60       50     65           1  \n..      ...      ...      ...      ...    ...         ...  \n795     100      150      100      150     50           6  \n796     160      110      160      110    110           6  \n797     110       60      150      130     70           6  \n798     160       60      170      130     80           6  \n799     110      120      130       90     70           6  \n\n[800 rows x 13 columns]",
            "text/html": "<div>\n<style scoped>\n    .dataframe tbody tr th:only-of-type {\n        vertical-align: middle;\n    }\n\n    .dataframe tbody tr th {\n        vertical-align: top;\n    }\n\n    .dataframe thead th {\n        text-align: right;\n    }\n</style>\n<table border=\"1\" class=\"dataframe\">\n  <thead>\n    <tr style=\"text-align: right;\">\n      <th></th>\n      <th>#</th>\n      <th>Name</th>\n      <th>Type 1</th>\n      <th>Type 2</th>\n      <th>Legendary</th>\n      <th>Total</th>\n      <th>HP</th>\n      <th>Attack</th>\n      <th>Defense</th>\n      <th>Sp. Atk</th>\n      <th>Sp. Def</th>\n      <th>Speed</th>\n      <th>Generation</th>\n    </tr>\n  </thead>\n  <tbody>\n    <tr>\n      <th>0</th>\n      <td>1</td>\n      <td>Bulbasaur</td>\n      <td>Grass</td>\n      <td>Poison</td>\n      <td>False</td>\n      <td>864</td>\n      <td>45</td>\n      <td>49</td>\n      <td>49</td>\n      <td>65</td>\n      <td>65</td>\n      <td>45</td>\n      <td>1</td>\n    </tr>\n    <tr>\n      <th>1</th>\n      <td>2</td>\n      <td>Ivysaur</td>\n      <td>Grass</td>\n      <td>Poison</td>\n      <td>False</td>\n      <td>1095</td>\n      <td>60</td>\n      <td>62</td>\n      <td>63</td>\n      <td>80</td>\n      <td>80</td>\n      <td>60</td>\n      <td>1</td>\n    </tr>\n    <tr>\n      <th>2</th>\n      <td>3</td>\n      <td>Venusaur</td>\n      <td>Grass</td>\n      <td>Poison</td>\n      <td>False</td>\n      <td>1415</td>\n      <td>80</td>\n      <td>82</td>\n      <td>83</td>\n      <td>100</td>\n      <td>100</td>\n      <td>80</td>\n      <td>1</td>\n    </tr>\n    <tr>\n      <th>3</th>\n      <td>3</td>\n      <td>VenusaurMega Venusaur</td>\n      <td>Grass</td>\n      <td>Poison</td>\n      <td>False</td>\n      <td>1715</td>\n      <td>80</td>\n      <td>100</td>\n      <td>123</td>\n      <td>122</td>\n      <td>120</td>\n      <td>80</td>\n      <td>1</td>\n    </tr>\n    <tr>\n      <th>4</th>\n      <td>4</td>\n      <td>Charmander</td>\n      <td>Fire</td>\n      <td>NaN</td>\n      <td>False</td>\n      <td>797</td>\n      <td>39</td>\n      <td>52</td>\n      <td>43</td>\n      <td>60</td>\n      <td>50</td>\n      <td>65</td>\n      <td>1</td>\n    </tr>\n    <tr>\n      <th>...</th>\n      <td>...</td>\n      <td>...</td>\n      <td>...</td>\n      <td>...</td>\n      <td>...</td>\n      <td>...</td>\n      <td>...</td>\n      <td>...</td>\n      <td>...</td>\n      <td>...</td>\n      <td>...</td>\n      <td>...</td>\n      <td>...</td>\n    </tr>\n    <tr>\n      <th>795</th>\n      <td>719</td>\n      <td>Diancie</td>\n      <td>Rock</td>\n      <td>Fairy</td>\n      <td>True</td>\n      <td>1700</td>\n      <td>50</td>\n      <td>100</td>\n      <td>150</td>\n      <td>100</td>\n      <td>150</td>\n      <td>50</td>\n      <td>6</td>\n    </tr>\n    <tr>\n      <th>796</th>\n      <td>719</td>\n      <td>DiancieMega Diancie</td>\n      <td>Rock</td>\n      <td>Fairy</td>\n      <td>True</td>\n      <td>1880</td>\n      <td>50</td>\n      <td>160</td>\n      <td>110</td>\n      <td>160</td>\n      <td>110</td>\n      <td>110</td>\n      <td>6</td>\n    </tr>\n    <tr>\n      <th>797</th>\n      <td>720</td>\n      <td>HoopaHoopa Confined</td>\n      <td>Psychic</td>\n      <td>Ghost</td>\n      <td>True</td>\n      <td>1660</td>\n      <td>80</td>\n      <td>110</td>\n      <td>60</td>\n      <td>150</td>\n      <td>130</td>\n      <td>70</td>\n      <td>6</td>\n    </tr>\n    <tr>\n      <th>798</th>\n      <td>720</td>\n      <td>HoopaHoopa Unbound</td>\n      <td>Psychic</td>\n      <td>Dark</td>\n      <td>True</td>\n      <td>1880</td>\n      <td>80</td>\n      <td>160</td>\n      <td>60</td>\n      <td>170</td>\n      <td>130</td>\n      <td>80</td>\n      <td>6</td>\n    </tr>\n    <tr>\n      <th>799</th>\n      <td>721</td>\n      <td>Volcanion</td>\n      <td>Fire</td>\n      <td>Water</td>\n      <td>True</td>\n      <td>1660</td>\n      <td>80</td>\n      <td>110</td>\n      <td>120</td>\n      <td>130</td>\n      <td>90</td>\n      <td>70</td>\n      <td>6</td>\n    </tr>\n  </tbody>\n</table>\n<p>800 rows × 13 columns</p>\n</div>"
          },
          "metadata": {}
        }
      ],
      "execution_count": 16
    },
    {
      "id": "f837b1ca-a53d-4c7b-aeb2-6feae9882a59",
      "cell_type": "markdown",
      "source": "Aggregate Statistics (Groupby)",
      "metadata": {}
    },
    {
      "id": "e483df03-97ac-4c47-b7aa-6f97c035882d",
      "cell_type": "code",
      "source": "df = pd.read_csv('modified.csv')\n\ndf['count'] = 1\n\ndf.groupby(['Type 1', 'Type 2']).count()['count']",
      "metadata": {
        "trusted": true
      },
      "outputs": [
        {
          "execution_count": 19,
          "output_type": "execute_result",
          "data": {
            "text/plain": "Type 1  Type 2  \nBug     Electric     2\n        Fighting     2\n        Fire         2\n        Flying      14\n        Ghost        1\n                    ..\nWater   Ice          3\n        Poison       3\n        Psychic      5\n        Rock         4\n        Steel        1\nName: count, Length: 136, dtype: int64"
          },
          "metadata": {}
        }
      ],
      "execution_count": 19
    },
    {
      "id": "781b7c3c-192d-4fc2-951c-1987edd1b8d2",
      "cell_type": "markdown",
      "source": "Working with large amounts of data",
      "metadata": {}
    },
    {
      "id": "f1943775-0ad7-47e7-8757-983433fb4b3c",
      "cell_type": "code",
      "source": "import pandas as pd\n\n# Read just the header (first row) to get the column names\ndf_columns = pd.read_csv('modified.csv', nrows=0).columns\n\nnew_df = pd.DataFrame(columns=df_columns)\n\nfor df_chunk in pd.read_csv('modified.csv', chunksize=5):\n    results = df_chunk.groupby(['Type 1']).count()\n    new_df = pd.concat([new_df, results])\n\nprint(new_df)\n",
      "metadata": {
        "trusted": true
      },
      "outputs": [
        {
          "name": "stdout",
          "output_type": "stream",
          "text": "         # Name Type 1 Type 2 Legendary Total HP Attack Defense Sp. Atk  \\\nFire     1    1    NaN      0         1     1  1      1       1       1   \nGrass    4    4    NaN      4         4     4  4      4       4       4   \nFire     4    4    NaN      3         4     4  4      4       4       4   \nWater    1    1    NaN      0         1     1  1      1       1       1   \nBug      2    2    NaN      0         2     2  2      2       2       2   \n...     ..  ...    ...    ...       ...   ... ..    ...     ...     ...   \nFairy    1    1    NaN      0         1     1  1      1       1       1   \nFlying   2    2    NaN      2         2     2  2      2       2       2   \nFire     1    1    NaN      1         1     1  1      1       1       1   \nPsychic  2    2    NaN      2         2     2  2      2       2       2   \nRock     2    2    NaN      2         2     2  2      2       2       2   \n\n        Sp. Def Speed Generation  \nFire          1     1          1  \nGrass         4     4          4  \nFire          4     4          4  \nWater         1     1          1  \nBug           2     2          2  \n...         ...   ...        ...  \nFairy         1     1          1  \nFlying        2     2          2  \nFire          1     1          1  \nPsychic       2     2          2  \nRock          2     2          2  \n\n[433 rows x 13 columns]\n"
        }
      ],
      "execution_count": 6
    },
    {
      "id": "a2908fd0-34f0-446d-8268-ad007fe15728",
      "cell_type": "code",
      "source": "",
      "metadata": {
        "trusted": true
      },
      "outputs": [],
      "execution_count": null
    }
  ]
}